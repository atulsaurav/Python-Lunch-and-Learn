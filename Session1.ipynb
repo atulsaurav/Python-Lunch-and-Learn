{
 "cells": [
  {
   "cell_type": "markdown",
   "metadata": {
    "nbpresent": {
     "id": "39ea1435-6837-4754-b92f-6eb95eb680a7"
    }
   },
   "source": [
    "# Python Lunch & Learn\n",
    "\n",
    "\n",
    "\n",
    "## Session 1\n",
    "\n",
    "\n",
    "### Atul Saurav"
   ]
  },
  {
   "cell_type": "markdown",
   "metadata": {
    "nbpresent": {
     "id": "231d1d7a-7064-46ff-8053-7c2008839ae1"
    }
   },
   "source": [
    "## Agenda:\n",
    "\n",
    "1. About python\n",
    "2. Getting Started\n",
    "3. Python Basics\n",
    "    types\n",
    "4. Lists, Tuples, Sets\n",
    "5. Strings\n",
    "6. Dictionaries\n",
    "7. Control Flow\n",
    "8. Functions"
   ]
  },
  {
   "cell_type": "markdown",
   "metadata": {
    "collapsed": true,
    "nbpresent": {
     "id": "7a1630d2-4cdd-42b3-9320-4da94e3da6c9"
    }
   },
   "source": [
    "## Introduction\n",
    "\n",
    "* High Level Language available on multiple platform and pre installed in all POSIX based systems\n",
    "* Easy to learn and use - “Batteries Included”\n",
    "* Not a compiled language - not the fastest language around\n",
    "* It is not a 5GL language like VB etc\n",
    "    * So you have to write code and drag and drop doesn't write code for you in backend\n",
    "    * You are not limited by the limitation of code generation frontend\n",
    "    * `With great power comes great responsibility` - Uncle Ben, Marvel Comics\n",
    "* Source code gets converted to bytecode at runtime and is executed by the interpreter\n",
    "* Python behind the scenes is C, thus there are ways to optimize and run python programs at speed comparable to C!\n",
    "* Python is FREE!"
   ]
  },
  {
   "cell_type": "markdown",
   "metadata": {
    "nbpresent": {
     "id": "b8a8e389-ba29-4582-b4ca-e01876ae504a"
    }
   },
   "source": [
    "## Getting Started - Installation\n",
    "\n",
    "There are multiple options:\n",
    "\n",
    "**On windows:**\n",
    "* Standard Python can be installed from Python.org\n",
    "* Enhanced Python can be installed from third parties\n",
    "    - Continuum.io - Anaconda **(Recommended)**\n",
    "    - Enthought Canopy\n",
    "    \n",
    "**On Linux:**\n",
    "* Standard python is preinstalled and can be invoked by typing python on shell prompt\n",
    "* Anaconda python is installed on `/opt/anaconda2/bin` and can be executed from there\n",
    "* Prepending `/opt/anaconda2/bin` to `PATH` environment variable will invoke anaconda python\n"
   ]
  },
  {
   "cell_type": "markdown",
   "metadata": {
    "nbpresent": {
     "id": "bd7bbff0-249b-41ae-8d53-c62559ca1600"
    }
   },
   "source": [
    "## Getting Started - Development Options\n",
    "\n",
    "* Python interactive Read Evaluate Print Loop (REPL)\n",
    "* No specific text editor needed - Any plain text editor works\n",
    "* IDLE, iPython, Jypyter, PyCharm, Eclipse, Spyder"
   ]
  },
  {
   "cell_type": "markdown",
   "metadata": {
    "nbpresent": {
     "id": "944d76c2-5e10-472e-a78d-7bc39d7d34fd"
    }
   },
   "source": [
    "## Lexical Conventions and Syntax\n",
    "\n",
    "* Python is case sensitive\n",
    "* Leading spaces on a line matter\n",
    "* Blocks are identified by indents unlike languages like C/Java etc..\n",
    "* A block can either be space indented or tab, not both\n",
    "* Single line comments are start with #\n",
    "* Multi line comments are enclosed within ''' or \"\"\""
   ]
  },
  {
   "cell_type": "markdown",
   "metadata": {
    "nbpresent": {
     "id": "0cc9d9cd-0c64-4e12-af72-1e441ab831d8"
    }
   },
   "source": [
    "## Python Types:\n",
    "\n",
    "Type of any object can be determined by `type` function\n",
    "\n",
    "Python has several built-in types:\n",
    "* Simple\n",
    "    * Boolean\n",
    "    * String\n",
    "    * Numeric - Int, Float\n",
    "* Complex\n",
    "    * List\n",
    "    * Tuple\n",
    "    * Set\n",
    "    * Dictionaries"
   ]
  },
  {
   "cell_type": "markdown",
   "metadata": {
    "collapsed": true,
    "nbpresent": {
     "id": "8d156a8a-6f89-4dac-9d35-d359fd78ec43"
    }
   },
   "source": [
    "## Boolean Type:\n",
    "\n",
    "* Denoted by keyword `bool` and has 2 possible keywords `True` and `False` as values\n",
    "* `0, None`, empty string all evaluate to `False`\n",
    "* Everything else evaluates to `True`"
   ]
  },
  {
   "cell_type": "code",
   "execution_count": 11,
   "metadata": {
    "collapsed": false,
    "nbpresent": {
     "id": "c1242439-ee4c-4c1d-b4d4-8f18933ee009"
    }
   },
   "outputs": [
    {
     "data": {
      "text/plain": [
       "(True, False)"
      ]
     },
     "execution_count": 11,
     "metadata": {},
     "output_type": "execute_result"
    }
   ],
   "source": [
    ">>> bool(True), bool(False)"
   ]
  },
  {
   "cell_type": "code",
   "execution_count": 3,
   "metadata": {
    "collapsed": false,
    "nbpresent": {
     "id": "b82b521f-a475-4ba5-ad46-ad1518e39372"
    }
   },
   "outputs": [
    {
     "data": {
      "text/plain": [
       "(False, True)"
      ]
     },
     "execution_count": 3,
     "metadata": {},
     "output_type": "execute_result"
    }
   ],
   "source": [
    ">>> bool(''), bool('Python')"
   ]
  },
  {
   "cell_type": "code",
   "execution_count": 4,
   "metadata": {
    "collapsed": false,
    "nbpresent": {
     "id": "dcc3d2f4-8897-4ab9-a8ae-396c47f79f88"
    }
   },
   "outputs": [
    {
     "data": {
      "text/plain": [
       "(False, True, False)"
      ]
     },
     "execution_count": 4,
     "metadata": {},
     "output_type": "execute_result"
    }
   ],
   "source": [
    ">>> bool(None), bool(30), bool(0)"
   ]
  },
  {
   "cell_type": "code",
   "execution_count": 12,
   "metadata": {
    "collapsed": false
   },
   "outputs": [
    {
     "name": "stdout",
     "output_type": "stream",
     "text": [
      "hello\n"
     ]
    }
   ],
   "source": [
    "if 'Python':\n",
    "    print \"hello\"\n",
    "else:\n",
    "    print \"bye\""
   ]
  },
  {
   "cell_type": "markdown",
   "metadata": {
    "collapsed": true,
    "nbpresent": {
     "id": "c5536b96-8946-4984-a705-b58dfa0878f1"
    }
   },
   "source": [
    "## String Type:\n",
    "\n",
    "* Denoted by keyword `str` and is similar to string types from most languages\n",
    "* any sequence of characters enclosed within single, double or triple quotes is a string"
   ]
  },
  {
   "cell_type": "code",
   "execution_count": 9,
   "metadata": {
    "collapsed": false,
    "nbpresent": {
     "id": "9c926dc5-7320-4913-a007-52d4deb5b3e3"
    }
   },
   "outputs": [
    {
     "data": {
      "text/plain": [
       "('abc', str, 'abc')"
      ]
     },
     "execution_count": 9,
     "metadata": {},
     "output_type": "execute_result"
    }
   ],
   "source": [
    ">>> 'abc', type('abc'), '''abc'''"
   ]
  },
  {
   "cell_type": "code",
   "execution_count": 10,
   "metadata": {
    "collapsed": false,
    "nbpresent": {
     "id": "f878ec50-8361-4635-86aa-5cf92a5b1d35"
    }
   },
   "outputs": [
    {
     "data": {
      "text/plain": [
       "('abc', str, 'abc')"
      ]
     },
     "execution_count": 10,
     "metadata": {},
     "output_type": "execute_result"
    }
   ],
   "source": [
    ">>> \"abc\", type(\"abc\"), \"\"\"abc\"\"\""
   ]
  },
  {
   "cell_type": "code",
   "execution_count": 24,
   "metadata": {
    "collapsed": true,
    "nbpresent": {
     "id": "e7742666-bcca-43b5-a887-17d62e12f1fc"
    }
   },
   "outputs": [],
   "source": [
    "a = \"\"\" Hello\n",
    "Ok\n",
    "Done\n",
    "\"\"\""
   ]
  },
  {
   "cell_type": "code",
   "execution_count": 25,
   "metadata": {
    "collapsed": false,
    "nbpresent": {
     "id": "d9cb6e4d-d779-43b2-ab2a-af66b7a28057"
    }
   },
   "outputs": [
    {
     "name": "stdout",
     "output_type": "stream",
     "text": [
      " Hello\n",
      "Ok\n",
      "Done\n",
      "\n"
     ]
    }
   ],
   "source": [
    "print (a)"
   ]
  },
  {
   "cell_type": "code",
   "execution_count": 16,
   "metadata": {
    "collapsed": true,
    "nbpresent": {
     "id": "f15ecbfb-3442-49de-a551-42a46da1b181"
    }
   },
   "outputs": [],
   "source": [
    "a = 1\n",
    "b = 2\n",
    "\n"
   ]
  },
  {
   "cell_type": "code",
   "execution_count": 17,
   "metadata": {
    "collapsed": false,
    "nbpresent": {
     "id": "2f1c0cce-d263-49cf-820e-481c272967c9"
    }
   },
   "outputs": [
    {
     "data": {
      "text/plain": [
       "3"
      ]
     },
     "execution_count": 17,
     "metadata": {},
     "output_type": "execute_result"
    }
   ],
   "source": [
    "a + b"
   ]
  },
  {
   "cell_type": "code",
   "execution_count": 20,
   "metadata": {
    "collapsed": false
   },
   "outputs": [
    {
     "data": {
      "text/plain": [
       "0"
      ]
     },
     "execution_count": 20,
     "metadata": {},
     "output_type": "execute_result"
    }
   ],
   "source": [
    "a / b"
   ]
  },
  {
   "cell_type": "code",
   "execution_count": 21,
   "metadata": {
    "collapsed": true
   },
   "outputs": [],
   "source": [
    "from __future__ import division"
   ]
  },
  {
   "cell_type": "code",
   "execution_count": 22,
   "metadata": {
    "collapsed": false
   },
   "outputs": [
    {
     "data": {
      "text/plain": [
       "0.5"
      ]
     },
     "execution_count": 22,
     "metadata": {},
     "output_type": "execute_result"
    }
   ],
   "source": [
    "a/b"
   ]
  },
  {
   "cell_type": "code",
   "execution_count": 26,
   "metadata": {
    "collapsed": false
   },
   "outputs": [
    {
     "data": {
      "text/plain": [
       "False"
      ]
     },
     "execution_count": 26,
     "metadata": {},
     "output_type": "execute_result"
    }
   ],
   "source": [
    "1/3 == 0.333333"
   ]
  },
  {
   "cell_type": "code",
   "execution_count": 32,
   "metadata": {
    "collapsed": true
   },
   "outputs": [],
   "source": [
    "import decimal"
   ]
  },
  {
   "cell_type": "code",
   "execution_count": 33,
   "metadata": {
    "collapsed": false
   },
   "outputs": [],
   "source": [
    "a = decimal.Decimal(3)"
   ]
  },
  {
   "cell_type": "code",
   "execution_count": 31,
   "metadata": {
    "collapsed": false
   },
   "outputs": [
    {
     "data": {
      "text/plain": [
       "Decimal('3')"
      ]
     },
     "execution_count": 31,
     "metadata": {},
     "output_type": "execute_result"
    }
   ],
   "source": [
    "a"
   ]
  },
  {
   "cell_type": "code",
   "execution_count": 35,
   "metadata": {
    "collapsed": true
   },
   "outputs": [],
   "source": [
    "a = list()"
   ]
  },
  {
   "cell_type": "code",
   "execution_count": 48,
   "metadata": {
    "collapsed": true
   },
   "outputs": [],
   "source": [
    "b = [1,2,'atul',[4,5,6]]"
   ]
  },
  {
   "cell_type": "code",
   "execution_count": 49,
   "metadata": {
    "collapsed": false
   },
   "outputs": [
    {
     "data": {
      "text/plain": [
       "[1, 2, 'atul', [4, 5, 6]]"
      ]
     },
     "execution_count": 49,
     "metadata": {},
     "output_type": "execute_result"
    }
   ],
   "source": [
    "b"
   ]
  },
  {
   "cell_type": "code",
   "execution_count": 38,
   "metadata": {
    "collapsed": false
   },
   "outputs": [
    {
     "data": {
      "text/plain": [
       "list"
      ]
     },
     "execution_count": 38,
     "metadata": {},
     "output_type": "execute_result"
    }
   ],
   "source": [
    "type(b)"
   ]
  },
  {
   "cell_type": "code",
   "execution_count": 50,
   "metadata": {
    "collapsed": false
   },
   "outputs": [
    {
     "data": {
      "text/plain": [
       "'atul'"
      ]
     },
     "execution_count": 50,
     "metadata": {},
     "output_type": "execute_result"
    }
   ],
   "source": [
    "b[2]"
   ]
  },
  {
   "cell_type": "code",
   "execution_count": 51,
   "metadata": {
    "collapsed": false
   },
   "outputs": [
    {
     "data": {
      "text/plain": [
       "'u'"
      ]
     },
     "execution_count": 51,
     "metadata": {},
     "output_type": "execute_result"
    }
   ],
   "source": [
    "b[2][2]"
   ]
  },
  {
   "cell_type": "code",
   "execution_count": 52,
   "metadata": {
    "collapsed": true
   },
   "outputs": [],
   "source": [
    "x = [['sub1', 1], ['sub',2]]"
   ]
  },
  {
   "cell_type": "code",
   "execution_count": 53,
   "metadata": {
    "collapsed": false
   },
   "outputs": [
    {
     "data": {
      "text/plain": [
       "[['sub1', 1], ['sub', 2]]"
      ]
     },
     "execution_count": 53,
     "metadata": {},
     "output_type": "execute_result"
    }
   ],
   "source": [
    "x"
   ]
  },
  {
   "cell_type": "code",
   "execution_count": 59,
   "metadata": {
    "collapsed": false
   },
   "outputs": [
    {
     "data": {
      "text/plain": [
       "[str, str]"
      ]
     },
     "execution_count": 59,
     "metadata": {},
     "output_type": "execute_result"
    }
   ],
   "source": [
    "[type(y[0]) for y in x]"
   ]
  },
  {
   "cell_type": "code",
   "execution_count": 57,
   "metadata": {
    "collapsed": true
   },
   "outputs": [],
   "source": [
    "d = 5"
   ]
  },
  {
   "cell_type": "code",
   "execution_count": 58,
   "metadata": {
    "collapsed": true
   },
   "outputs": [],
   "source": [
    "e = 5"
   ]
  },
  {
   "cell_type": "code",
   "execution_count": 60,
   "metadata": {
    "collapsed": true
   },
   "outputs": [],
   "source": [
    "k = d"
   ]
  },
  {
   "cell_type": "code",
   "execution_count": 61,
   "metadata": {
    "collapsed": true
   },
   "outputs": [],
   "source": [
    "k = 6"
   ]
  },
  {
   "cell_type": "code",
   "execution_count": 62,
   "metadata": {
    "collapsed": false
   },
   "outputs": [
    {
     "data": {
      "text/plain": [
       "6"
      ]
     },
     "execution_count": 62,
     "metadata": {},
     "output_type": "execute_result"
    }
   ],
   "source": [
    "k"
   ]
  },
  {
   "cell_type": "code",
   "execution_count": 63,
   "metadata": {
    "collapsed": false
   },
   "outputs": [
    {
     "data": {
      "text/plain": [
       "5"
      ]
     },
     "execution_count": 63,
     "metadata": {},
     "output_type": "execute_result"
    }
   ],
   "source": [
    "d"
   ]
  },
  {
   "cell_type": "code",
   "execution_count": 64,
   "metadata": {
    "collapsed": true
   },
   "outputs": [],
   "source": [
    "l = k"
   ]
  },
  {
   "cell_type": "code",
   "execution_count": 65,
   "metadata": {
    "collapsed": false
   },
   "outputs": [
    {
     "data": {
      "text/plain": [
       "6"
      ]
     },
     "execution_count": 65,
     "metadata": {},
     "output_type": "execute_result"
    }
   ],
   "source": [
    "l"
   ]
  },
  {
   "cell_type": "code",
   "execution_count": 66,
   "metadata": {
    "collapsed": false
   },
   "outputs": [
    {
     "data": {
      "text/plain": [
       "6"
      ]
     },
     "execution_count": 66,
     "metadata": {},
     "output_type": "execute_result"
    }
   ],
   "source": [
    "k = 7\n",
    "l"
   ]
  },
  {
   "cell_type": "code",
   "execution_count": 67,
   "metadata": {
    "collapsed": false
   },
   "outputs": [
    {
     "data": {
      "text/plain": [
       "['__add__',\n",
       " '__class__',\n",
       " '__contains__',\n",
       " '__delattr__',\n",
       " '__delitem__',\n",
       " '__delslice__',\n",
       " '__doc__',\n",
       " '__eq__',\n",
       " '__format__',\n",
       " '__ge__',\n",
       " '__getattribute__',\n",
       " '__getitem__',\n",
       " '__getslice__',\n",
       " '__gt__',\n",
       " '__hash__',\n",
       " '__iadd__',\n",
       " '__imul__',\n",
       " '__init__',\n",
       " '__iter__',\n",
       " '__le__',\n",
       " '__len__',\n",
       " '__lt__',\n",
       " '__mul__',\n",
       " '__ne__',\n",
       " '__new__',\n",
       " '__reduce__',\n",
       " '__reduce_ex__',\n",
       " '__repr__',\n",
       " '__reversed__',\n",
       " '__rmul__',\n",
       " '__setattr__',\n",
       " '__setitem__',\n",
       " '__setslice__',\n",
       " '__sizeof__',\n",
       " '__str__',\n",
       " '__subclasshook__',\n",
       " 'append',\n",
       " 'count',\n",
       " 'extend',\n",
       " 'index',\n",
       " 'insert',\n",
       " 'pop',\n",
       " 'remove',\n",
       " 'reverse',\n",
       " 'sort']"
      ]
     },
     "execution_count": 67,
     "metadata": {},
     "output_type": "execute_result"
    }
   ],
   "source": [
    "dir(x)"
   ]
  },
  {
   "cell_type": "code",
   "execution_count": 68,
   "metadata": {
    "collapsed": false
   },
   "outputs": [
    {
     "name": "stdout",
     "output_type": "stream",
     "text": [
      "Help on list object:\n",
      "\n",
      "class list(object)\n",
      " |  list() -> new empty list\n",
      " |  list(iterable) -> new list initialized from iterable's items\n",
      " |  \n",
      " |  Methods defined here:\n",
      " |  \n",
      " |  __add__(...)\n",
      " |      x.__add__(y) <==> x+y\n",
      " |  \n",
      " |  __contains__(...)\n",
      " |      x.__contains__(y) <==> y in x\n",
      " |  \n",
      " |  __delitem__(...)\n",
      " |      x.__delitem__(y) <==> del x[y]\n",
      " |  \n",
      " |  __delslice__(...)\n",
      " |      x.__delslice__(i, j) <==> del x[i:j]\n",
      " |      \n",
      " |      Use of negative indices is not supported.\n",
      " |  \n",
      " |  __eq__(...)\n",
      " |      x.__eq__(y) <==> x==y\n",
      " |  \n",
      " |  __ge__(...)\n",
      " |      x.__ge__(y) <==> x>=y\n",
      " |  \n",
      " |  __getattribute__(...)\n",
      " |      x.__getattribute__('name') <==> x.name\n",
      " |  \n",
      " |  __getitem__(...)\n",
      " |      x.__getitem__(y) <==> x[y]\n",
      " |  \n",
      " |  __getslice__(...)\n",
      " |      x.__getslice__(i, j) <==> x[i:j]\n",
      " |      \n",
      " |      Use of negative indices is not supported.\n",
      " |  \n",
      " |  __gt__(...)\n",
      " |      x.__gt__(y) <==> x>y\n",
      " |  \n",
      " |  __iadd__(...)\n",
      " |      x.__iadd__(y) <==> x+=y\n",
      " |  \n",
      " |  __imul__(...)\n",
      " |      x.__imul__(y) <==> x*=y\n",
      " |  \n",
      " |  __init__(...)\n",
      " |      x.__init__(...) initializes x; see help(type(x)) for signature\n",
      " |  \n",
      " |  __iter__(...)\n",
      " |      x.__iter__() <==> iter(x)\n",
      " |  \n",
      " |  __le__(...)\n",
      " |      x.__le__(y) <==> x<=y\n",
      " |  \n",
      " |  __len__(...)\n",
      " |      x.__len__() <==> len(x)\n",
      " |  \n",
      " |  __lt__(...)\n",
      " |      x.__lt__(y) <==> x<y\n",
      " |  \n",
      " |  __mul__(...)\n",
      " |      x.__mul__(n) <==> x*n\n",
      " |  \n",
      " |  __ne__(...)\n",
      " |      x.__ne__(y) <==> x!=y\n",
      " |  \n",
      " |  __repr__(...)\n",
      " |      x.__repr__() <==> repr(x)\n",
      " |  \n",
      " |  __reversed__(...)\n",
      " |      L.__reversed__() -- return a reverse iterator over the list\n",
      " |  \n",
      " |  __rmul__(...)\n",
      " |      x.__rmul__(n) <==> n*x\n",
      " |  \n",
      " |  __setitem__(...)\n",
      " |      x.__setitem__(i, y) <==> x[i]=y\n",
      " |  \n",
      " |  __setslice__(...)\n",
      " |      x.__setslice__(i, j, y) <==> x[i:j]=y\n",
      " |      \n",
      " |      Use  of negative indices is not supported.\n",
      " |  \n",
      " |  __sizeof__(...)\n",
      " |      L.__sizeof__() -- size of L in memory, in bytes\n",
      " |  \n",
      " |  append(...)\n",
      " |      L.append(object) -- append object to end\n",
      " |  \n",
      " |  count(...)\n",
      " |      L.count(value) -> integer -- return number of occurrences of value\n",
      " |  \n",
      " |  extend(...)\n",
      " |      L.extend(iterable) -- extend list by appending elements from the iterable\n",
      " |  \n",
      " |  index(...)\n",
      " |      L.index(value, [start, [stop]]) -> integer -- return first index of value.\n",
      " |      Raises ValueError if the value is not present.\n",
      " |  \n",
      " |  insert(...)\n",
      " |      L.insert(index, object) -- insert object before index\n",
      " |  \n",
      " |  pop(...)\n",
      " |      L.pop([index]) -> item -- remove and return item at index (default last).\n",
      " |      Raises IndexError if list is empty or index is out of range.\n",
      " |  \n",
      " |  remove(...)\n",
      " |      L.remove(value) -- remove first occurrence of value.\n",
      " |      Raises ValueError if the value is not present.\n",
      " |  \n",
      " |  reverse(...)\n",
      " |      L.reverse() -- reverse *IN PLACE*\n",
      " |  \n",
      " |  sort(...)\n",
      " |      L.sort(cmp=None, key=None, reverse=False) -- stable sort *IN PLACE*;\n",
      " |      cmp(x, y) -> -1, 0, 1\n",
      " |  \n",
      " |  ----------------------------------------------------------------------\n",
      " |  Data and other attributes defined here:\n",
      " |  \n",
      " |  __hash__ = None\n",
      " |  \n",
      " |  __new__ = <built-in method __new__ of type object>\n",
      " |      T.__new__(S, ...) -> a new object with type S, a subtype of T\n",
      "\n"
     ]
    }
   ],
   "source": [
    "help(x)"
   ]
  },
  {
   "cell_type": "code",
   "execution_count": null,
   "metadata": {
    "collapsed": true
   },
   "outputs": [],
   "source": []
  }
 ],
 "metadata": {
  "anaconda-cloud": {},
  "kernelspec": {
   "display_name": "Python [py2]",
   "language": "python",
   "name": "Python [py2]"
  },
  "language_info": {
   "codemirror_mode": {
    "name": "ipython",
    "version": 2
   },
   "file_extension": ".py",
   "mimetype": "text/x-python",
   "name": "python",
   "nbconvert_exporter": "python",
   "pygments_lexer": "ipython2",
   "version": "2.7.12"
  },
  "nbpresent": {
   "slides": {
    "0d74c523-5e1a-4e0d-a223-97a8ca15ff28": {
     "id": "0d74c523-5e1a-4e0d-a223-97a8ca15ff28",
     "prev": "c7005f58-2a02-42a9-8a61-ca8e35587e0f",
     "regions": {
      "af80ab9d-0182-45d6-a67a-839246349a64": {
       "attrs": {
        "height": 0.8,
        "width": 0.8,
        "x": 0.1,
        "y": 0.1
       },
       "content": {
        "cell": "231d1d7a-7064-46ff-8053-7c2008839ae1",
        "part": "whole"
       },
       "id": "af80ab9d-0182-45d6-a67a-839246349a64"
      }
     }
    },
    "1113076d-7eec-4c45-ac3c-30bc1fc93e0e": {
     "id": "1113076d-7eec-4c45-ac3c-30bc1fc93e0e",
     "prev": "603edbb9-bc27-4b50-9bb0-05e1fd43b4eb",
     "regions": {
      "519bb293-ded2-4b7b-91d0-b6963cc8b8f8": {
       "attrs": {
        "height": 0.8,
        "width": 0.8,
        "x": 0.1,
        "y": 0.1
       },
       "content": {
        "cell": "9c926dc5-7320-4913-a007-52d4deb5b3e3",
        "part": "whole"
       },
       "id": "519bb293-ded2-4b7b-91d0-b6963cc8b8f8"
      }
     },
     "theme": null
    },
    "5f2dcdbe-c442-4bc4-ac9b-031bacb83088": {
     "id": "5f2dcdbe-c442-4bc4-ac9b-031bacb83088",
     "prev": "66f0de83-d0ff-4bd5-a29e-1b9b24fb5c07",
     "regions": {
      "6165d2d8-150d-49ad-a1d5-32e59b1ce44d": {
       "attrs": {
        "height": 0.8,
        "width": 0.8,
        "x": 0.1,
        "y": 0.1
       },
       "content": {
        "cell": "944d76c2-5e10-472e-a78d-7bc39d7d34fd",
        "part": "whole"
       },
       "id": "6165d2d8-150d-49ad-a1d5-32e59b1ce44d"
      }
     }
    },
    "603edbb9-bc27-4b50-9bb0-05e1fd43b4eb": {
     "id": "603edbb9-bc27-4b50-9bb0-05e1fd43b4eb",
     "prev": "76ba5c88-5553-4619-be5a-fec0bb5c3f68",
     "regions": {
      "6857201e-b838-4be9-9df9-0e9b029c2d6d": {
       "attrs": {
        "height": 0.8,
        "width": 0.8,
        "x": 0.1,
        "y": 0.1
       },
       "content": {
        "cell": "c5536b96-8946-4984-a705-b58dfa0878f1",
        "part": "whole"
       },
       "id": "6857201e-b838-4be9-9df9-0e9b029c2d6d"
      }
     }
    },
    "644280d5-9141-4758-82c7-73e6ad85c775": {
     "id": "644280d5-9141-4758-82c7-73e6ad85c775",
     "prev": "d8986aad-e862-429f-899b-11fe3a27c9ad",
     "regions": {
      "953efe50-5648-4c01-8c16-295ec87d2cb8": {
       "attrs": {
        "height": 0.8,
        "width": 0.8,
        "x": 0.1,
        "y": 0.1
       },
       "content": {
        "cell": "6f8bebe9-3978-4604-95d0-bc9a647265af",
        "part": "whole"
       },
       "id": "953efe50-5648-4c01-8c16-295ec87d2cb8"
      }
     }
    },
    "66f0de83-d0ff-4bd5-a29e-1b9b24fb5c07": {
     "id": "66f0de83-d0ff-4bd5-a29e-1b9b24fb5c07",
     "prev": "eea0c52c-5d4f-4a98-aff5-55d23322bf1c",
     "regions": {
      "f2a61738-bb95-4d99-bf69-cdd7ffec3d63": {
       "attrs": {
        "height": 0.8,
        "width": 0.8,
        "x": 0.1,
        "y": 0.1
       },
       "content": {
        "cell": "bd7bbff0-249b-41ae-8d53-c62559ca1600",
        "part": "whole"
       },
       "id": "f2a61738-bb95-4d99-bf69-cdd7ffec3d63"
      }
     }
    },
    "6e424383-5cfd-4a47-9cc7-e85fa43113b8": {
     "id": "6e424383-5cfd-4a47-9cc7-e85fa43113b8",
     "prev": "b4b662fb-be21-4fe8-bb3b-f45a8c561b8c",
     "regions": {
      "e3f4e002-8152-4efa-9470-312268daefda": {
       "attrs": {
        "height": 0.8,
        "width": 0.8,
        "x": 0.1,
        "y": 0.1
       },
       "content": {
        "cell": "d9cb6e4d-d779-43b2-ab2a-af66b7a28057",
        "part": "whole"
       },
       "id": "e3f4e002-8152-4efa-9470-312268daefda"
      }
     }
    },
    "6ec30fc2-aaea-44ca-a8fb-20d614fdc137": {
     "id": "6ec30fc2-aaea-44ca-a8fb-20d614fdc137",
     "prev": "9e5528a0-ece9-4d44-8ef3-627e7175fd73",
     "regions": {
      "d1472be1-9d41-4ac9-9573-16f56ef4c50c": {
       "attrs": {
        "height": 0.8,
        "width": 0.8,
        "x": 0.1,
        "y": 0.1
       },
       "content": {
        "cell": "c1242439-ee4c-4c1d-b4d4-8f18933ee009",
        "part": "whole"
       },
       "id": "d1472be1-9d41-4ac9-9573-16f56ef4c50c"
      }
     }
    },
    "7393fd66-a574-4cda-bd1c-c62bdbfa85a7": {
     "id": "7393fd66-a574-4cda-bd1c-c62bdbfa85a7",
     "prev": "5f2dcdbe-c442-4bc4-ac9b-031bacb83088",
     "regions": {
      "f321c103-4940-4b77-9a81-2d4e499a99f1": {
       "attrs": {
        "height": 0.8,
        "width": 0.8,
        "x": 0.1,
        "y": 0.1
       },
       "content": {
        "cell": "0cc9d9cd-0c64-4e12-af72-1e441ab831d8",
        "part": "whole"
       },
       "id": "f321c103-4940-4b77-9a81-2d4e499a99f1"
      }
     }
    },
    "76ba5c88-5553-4619-be5a-fec0bb5c3f68": {
     "id": "76ba5c88-5553-4619-be5a-fec0bb5c3f68",
     "prev": "d1a76dd3-1088-46e0-b16d-060fc67f33c1",
     "regions": {
      "2a833bfb-48fe-4400-b44e-816e75aecf5d": {
       "attrs": {
        "height": 0.8,
        "width": 0.8,
        "x": 0.1,
        "y": 0.1
       },
       "content": {
        "cell": "dcc3d2f4-8897-4ab9-a8ae-396c47f79f88",
        "part": "whole"
       },
       "id": "2a833bfb-48fe-4400-b44e-816e75aecf5d"
      }
     }
    },
    "7e39eb27-b607-420d-a165-e127672b3f53": {
     "id": "7e39eb27-b607-420d-a165-e127672b3f53",
     "prev": "644280d5-9141-4758-82c7-73e6ad85c775",
     "regions": {
      "8452d8b1-6254-4176-8d22-6b537fd52b1b": {
       "attrs": {
        "height": 0.8,
        "width": 0.8,
        "x": 0.1,
        "y": 0.1
       },
       "content": {
        "cell": "8a81f39b-df89-474e-ac8b-9c0fea9835cc",
        "part": "whole"
       },
       "id": "8452d8b1-6254-4176-8d22-6b537fd52b1b"
      }
     }
    },
    "8662a72e-fb00-4053-baa3-4168ca00819a": {
     "id": "8662a72e-fb00-4053-baa3-4168ca00819a",
     "prev": "0d74c523-5e1a-4e0d-a223-97a8ca15ff28",
     "regions": {
      "0424ffe9-03c2-4ee3-b57d-c8721da26e84": {
       "attrs": {
        "height": 0.8,
        "width": 0.8,
        "x": 0.1,
        "y": 0.1
       },
       "content": {
        "cell": "7a1630d2-4cdd-42b3-9320-4da94e3da6c9",
        "part": "whole"
       },
       "id": "0424ffe9-03c2-4ee3-b57d-c8721da26e84"
      }
     }
    },
    "8821e4ff-37f4-4cf5-86c0-99a2147e6c42": {
     "id": "8821e4ff-37f4-4cf5-86c0-99a2147e6c42",
     "prev": "7e39eb27-b607-420d-a165-e127672b3f53",
     "regions": {
      "4ba54e98-09dc-47ba-87dc-d789c42317db": {
       "attrs": {
        "height": 0.8,
        "width": 0.8,
        "x": 0.1,
        "y": 0.1
       },
       "content": {
        "cell": "910f1065-a221-4012-96be-3e92c598d097",
        "part": "whole"
       },
       "id": "4ba54e98-09dc-47ba-87dc-d789c42317db"
      }
     }
    },
    "9e5528a0-ece9-4d44-8ef3-627e7175fd73": {
     "id": "9e5528a0-ece9-4d44-8ef3-627e7175fd73",
     "prev": "7393fd66-a574-4cda-bd1c-c62bdbfa85a7",
     "regions": {
      "c2c8e551-4538-4333-9152-214b83870b4a": {
       "attrs": {
        "height": 0.8,
        "width": 0.8,
        "x": 0.1,
        "y": 0.1
       },
       "content": {
        "cell": "8d156a8a-6f89-4dac-9d35-d359fd78ec43",
        "part": "whole"
       },
       "id": "c2c8e551-4538-4333-9152-214b83870b4a"
      }
     }
    },
    "ac327bfe-de1b-484b-b4c2-bbd25e0a3633": {
     "id": "ac327bfe-de1b-484b-b4c2-bbd25e0a3633",
     "prev": "6e424383-5cfd-4a47-9cc7-e85fa43113b8",
     "regions": {
      "e84ddc27-1a97-4f10-8e0d-6bc783fe0e0f": {
       "attrs": {
        "height": 0.8,
        "width": 0.8,
        "x": 0.1,
        "y": 0.1
       },
       "content": {
        "cell": "f15ecbfb-3442-49de-a551-42a46da1b181",
        "part": "whole"
       },
       "id": "e84ddc27-1a97-4f10-8e0d-6bc783fe0e0f"
      }
     }
    },
    "ad30518f-21d4-4f62-904a-e5bd2e02d8de": {
     "id": "ad30518f-21d4-4f62-904a-e5bd2e02d8de",
     "prev": "1113076d-7eec-4c45-ac3c-30bc1fc93e0e",
     "regions": {
      "2b1f1f75-547e-424c-9210-eaed91daa7b7": {
       "attrs": {
        "height": 0.8,
        "width": 0.8,
        "x": 0.1,
        "y": 0.1
       },
       "content": {
        "cell": "f878ec50-8361-4635-86aa-5cf92a5b1d35",
        "part": "whole"
       },
       "id": "2b1f1f75-547e-424c-9210-eaed91daa7b7"
      }
     }
    },
    "b4b662fb-be21-4fe8-bb3b-f45a8c561b8c": {
     "id": "b4b662fb-be21-4fe8-bb3b-f45a8c561b8c",
     "prev": "ad30518f-21d4-4f62-904a-e5bd2e02d8de",
     "regions": {
      "edd1e15f-9699-4973-8028-eee4b7ad1cff": {
       "attrs": {
        "height": 0.8,
        "width": 0.8,
        "x": 0.1,
        "y": 0.1
       },
       "content": {
        "cell": "e7742666-bcca-43b5-a887-17d62e12f1fc",
        "part": "whole"
       },
       "id": "edd1e15f-9699-4973-8028-eee4b7ad1cff"
      }
     }
    },
    "c7005f58-2a02-42a9-8a61-ca8e35587e0f": {
     "id": "c7005f58-2a02-42a9-8a61-ca8e35587e0f",
     "prev": null,
     "regions": {
      "a43ba61e-bdd2-495e-9634-0ffa1a6efaa3": {
       "attrs": {
        "height": 0.8,
        "width": 0.8,
        "x": 0.1,
        "y": 0.1
       },
       "content": {
        "cell": "39ea1435-6837-4754-b92f-6eb95eb680a7",
        "part": "whole"
       },
       "id": "a43ba61e-bdd2-495e-9634-0ffa1a6efaa3"
      }
     }
    },
    "d1a76dd3-1088-46e0-b16d-060fc67f33c1": {
     "id": "d1a76dd3-1088-46e0-b16d-060fc67f33c1",
     "prev": "6ec30fc2-aaea-44ca-a8fb-20d614fdc137",
     "regions": {
      "76906b5f-674e-40e4-ad3b-6b5d1e7e35ea": {
       "attrs": {
        "height": 0.8,
        "width": 0.8,
        "x": 0.1,
        "y": 0.1
       },
       "content": {
        "cell": "b82b521f-a475-4ba5-ad46-ad1518e39372",
        "part": "whole"
       },
       "id": "76906b5f-674e-40e4-ad3b-6b5d1e7e35ea"
      }
     }
    },
    "d8986aad-e862-429f-899b-11fe3a27c9ad": {
     "id": "d8986aad-e862-429f-899b-11fe3a27c9ad",
     "prev": "ac327bfe-de1b-484b-b4c2-bbd25e0a3633",
     "regions": {
      "dbfc2bf5-3927-4cf1-8e52-0d67ac431bc7": {
       "attrs": {
        "height": 0.8,
        "width": 0.8,
        "x": 0.1,
        "y": 0.1
       },
       "content": {
        "cell": "2f1c0cce-d263-49cf-820e-481c272967c9",
        "part": "whole"
       },
       "id": "dbfc2bf5-3927-4cf1-8e52-0d67ac431bc7"
      }
     }
    },
    "eea0c52c-5d4f-4a98-aff5-55d23322bf1c": {
     "id": "eea0c52c-5d4f-4a98-aff5-55d23322bf1c",
     "prev": "8662a72e-fb00-4053-baa3-4168ca00819a",
     "regions": {
      "3290cfdb-f057-406b-bcd3-25eea0ce0c60": {
       "attrs": {
        "height": 0.8,
        "width": 0.8,
        "x": 0.1,
        "y": 0.1
       },
       "content": {
        "cell": "b8a8e389-ba29-4582-b4ca-e01876ae504a",
        "part": "whole"
       },
       "id": "3290cfdb-f057-406b-bcd3-25eea0ce0c60"
      }
     }
    }
   },
   "themes": {}
  }
 },
 "nbformat": 4,
 "nbformat_minor": 0
}
