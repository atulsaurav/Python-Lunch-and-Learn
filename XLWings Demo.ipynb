{
 "cells": [
  {
   "cell_type": "code",
   "execution_count": 1,
   "metadata": {
    "collapsed": true
   },
   "outputs": [],
   "source": [
    "import xlwings as xw"
   ]
  },
  {
   "cell_type": "code",
   "execution_count": 2,
   "metadata": {
    "collapsed": false
   },
   "outputs": [
    {
     "data": {
      "text/plain": [
       "<Sheet [Book1]Sheet2>"
      ]
     },
     "execution_count": 2,
     "metadata": {},
     "output_type": "execute_result"
    }
   ],
   "source": [
    "wb = xw.Book()\n",
    "wb.sheets.add()"
   ]
  },
  {
   "cell_type": "code",
   "execution_count": 3,
   "metadata": {
    "collapsed": true
   },
   "outputs": [],
   "source": [
    "wb.sheets['Sheet1'].range('A1').value = 'Foo1'"
   ]
  },
  {
   "cell_type": "code",
   "execution_count": 4,
   "metadata": {
    "collapsed": true
   },
   "outputs": [],
   "source": [
    "wb.sheets['Sheet1'].range('A1').value = range(10)"
   ]
  },
  {
   "cell_type": "code",
   "execution_count": 5,
   "metadata": {
    "collapsed": true
   },
   "outputs": [],
   "source": [
    "wb.sheets['Sheet1'].range('A2').value = [[x] for x in range(20) if x%3 !=3 ]"
   ]
  },
  {
   "cell_type": "code",
   "execution_count": 6,
   "metadata": {
    "collapsed": false
   },
   "outputs": [
    {
     "data": {
      "text/plain": [
       "[0.0,\n",
       " 0.0,\n",
       " 1.0,\n",
       " 2.0,\n",
       " 3.0,\n",
       " 4.0,\n",
       " 5.0,\n",
       " 6.0,\n",
       " 7.0,\n",
       " 8.0,\n",
       " 9.0,\n",
       " 10.0,\n",
       " 11.0,\n",
       " 12.0,\n",
       " 13.0,\n",
       " 14.0,\n",
       " 15.0,\n",
       " 16.0,\n",
       " 17.0,\n",
       " 18.0,\n",
       " 19.0]"
      ]
     },
     "execution_count": 6,
     "metadata": {},
     "output_type": "execute_result"
    }
   ],
   "source": [
    "wb.sheets['Sheet1'].range('A1', 'A21').value"
   ]
  },
  {
   "cell_type": "code",
   "execution_count": 7,
   "metadata": {
    "collapsed": false
   },
   "outputs": [
    {
     "data": {
      "text/plain": [
       "[[0.0, 1.0, 2.0, 3.0, 4.0, 5.0, 6.0, 7.0, 8.0, 9.0],\n",
       " [0.0, None, None, None, None, None, None, None, None, None],\n",
       " [1.0, None, None, None, None, None, None, None, None, None],\n",
       " [2.0, None, None, None, None, None, None, None, None, None],\n",
       " [3.0, None, None, None, None, None, None, None, None, None],\n",
       " [4.0, None, None, None, None, None, None, None, None, None],\n",
       " [5.0, None, None, None, None, None, None, None, None, None],\n",
       " [6.0, None, None, None, None, None, None, None, None, None],\n",
       " [7.0, None, None, None, None, None, None, None, None, None],\n",
       " [8.0, None, None, None, None, None, None, None, None, None],\n",
       " [9.0, None, None, None, None, None, None, None, None, None],\n",
       " [10.0, None, None, None, None, None, None, None, None, None],\n",
       " [11.0, None, None, None, None, None, None, None, None, None],\n",
       " [12.0, None, None, None, None, None, None, None, None, None],\n",
       " [13.0, None, None, None, None, None, None, None, None, None],\n",
       " [14.0, None, None, None, None, None, None, None, None, None],\n",
       " [15.0, None, None, None, None, None, None, None, None, None],\n",
       " [16.0, None, None, None, None, None, None, None, None, None],\n",
       " [17.0, None, None, None, None, None, None, None, None, None],\n",
       " [18.0, None, None, None, None, None, None, None, None, None],\n",
       " [19.0, None, None, None, None, None, None, None, None, None]]"
      ]
     },
     "execution_count": 7,
     "metadata": {},
     "output_type": "execute_result"
    }
   ],
   "source": [
    "wb.sheets['Sheet1'].range('A1').expand().value"
   ]
  },
  {
   "cell_type": "code",
   "execution_count": null,
   "metadata": {
    "collapsed": true
   },
   "outputs": [],
   "source": []
  }
 ],
 "metadata": {
  "anaconda-cloud": {},
  "kernelspec": {
   "display_name": "Python [conda env:py2]",
   "language": "python",
   "name": "conda-env-py2-py"
  },
  "language_info": {
   "codemirror_mode": {
    "name": "ipython",
    "version": 2
   },
   "file_extension": ".py",
   "mimetype": "text/x-python",
   "name": "python",
   "nbconvert_exporter": "python",
   "pygments_lexer": "ipython2",
   "version": "2.7.12"
  }
 },
 "nbformat": 4,
 "nbformat_minor": 1
}
